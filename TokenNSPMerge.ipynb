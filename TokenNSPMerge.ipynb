{
 "cells": [
  {
   "cell_type": "code",
   "execution_count": 1,
   "id": "dbfecd2a-3b0a-466b-960b-fb2b038fcae7",
   "metadata": {
    "editable": true,
    "slideshow": {
     "slide_type": ""
    },
    "tags": []
   },
   "outputs": [],
   "source": [
    "from transformers import BertTokenizer\n",
    "import pickle\n",
    "import NSPSegmentTorch"
   ]
  },
  {
   "cell_type": "code",
   "execution_count": 2,
   "id": "4df13255-75b9-4aa5-a661-d3059e7a19cb",
   "metadata": {},
   "outputs": [],
   "source": [
    "tokenizer = BertTokenizer.from_pretrained(\"bert-base-uncased\")"
   ]
  },
  {
   "cell_type": "code",
   "execution_count": 3,
   "id": "f94ab9b7-29ff-474a-9529-f2e551be3a64",
   "metadata": {},
   "outputs": [],
   "source": [
    "with open('TokenNSPDataSet1.pkl', 'rb') as f:\n",
    "    data = pickle.load(f)"
   ]
  },
  {
   "cell_type": "code",
   "execution_count": 4,
   "id": "44d2735c-3bb5-47ab-ad93-d133b3a26b9d",
   "metadata": {},
   "outputs": [
    {
     "name": "stdout",
     "output_type": "stream",
     "text": [
      "[CLS] now then, you four have an extra responsibility to show these newer boys the ropes,'duncan jabs that finger again in my direction.'that's it, \" ivan grits, ignoring dimi's barbs. \" she used to call me'papa'when she was young. man, [SEP] fat fish leapt and danced in midair over a swollen creek, happy to be alive and ignorant of the yata and masari crouched in thick foliage, readying nets on opposite banks. he briefly looked up before putting kota's meager belongings back into the only bag he had brought with him to the [SEP]\n",
      "tensor(0.)\n"
     ]
    }
   ],
   "source": [
    "print(tokenizer.decode(data['input_ids'][0]))\n",
    "print(data['labels'][0])"
   ]
  },
  {
   "cell_type": "code",
   "execution_count": 5,
   "id": "734e20bb-6aa1-4e98-80f7-c420986c4426",
   "metadata": {},
   "outputs": [
    {
     "name": "stdout",
     "output_type": "stream",
     "text": [
      "[CLS] screams of shock and surprise startled sita from her trance. she looked down and saw who was screaming : roxie and ariene, watching the battle from inside the forest, were straight in her line of fire. _ oh shit! _ frantic, sita dove from the treetops, her hands out in front [SEP] roxie and ari turned to run, but sita could see they wouldn't get out of range in time. cursing her instincts, sita strained even harder and shoved her power with all her might up and out through her outstretched arms. the power streamed from her arms in a giant river, shocking her [SEP]\n",
      "tensor(1.)\n"
     ]
    }
   ],
   "source": [
    "print(tokenizer.decode(data['input_ids'][-1]))\n",
    "print(data['labels'][-1])"
   ]
  },
  {
   "cell_type": "code",
   "execution_count": null,
   "id": "710649ce-36a4-466e-9eb8-022fac94541b",
   "metadata": {},
   "outputs": [],
   "source": [
    "with open('TokenNSPDataSet0.pkl', 'rb') as f:\n",
    "    data_a = pickle.load(f)\n",
    "for i in range(1,5) :\n",
    "    with open(f'TokenNSPDataSet{i}.pkl', 'rb') as f:\n",
    "        data_b = pickle.load(f)\n",
    "    data_a = [data_a, data_b]\n",
    "    data_a = NSPSegmentTorch.merge_dict(data_a,shuffle=False)"
   ]
  },
  {
   "cell_type": "code",
   "execution_count": null,
   "id": "e59120df-42e4-4342-a95b-655ca3972004",
   "metadata": {},
   "outputs": [],
   "source": [
    "data = NSPSegmentTorch.dict_shuffle(data_a)"
   ]
  }
 ],
 "metadata": {
  "kernelspec": {
   "display_name": "NLP",
   "language": "python",
   "name": "nlp"
  },
  "language_info": {
   "codemirror_mode": {
    "name": "ipython",
    "version": 3
   },
   "file_extension": ".py",
   "mimetype": "text/x-python",
   "name": "python",
   "nbconvert_exporter": "python",
   "pygments_lexer": "ipython3",
   "version": "3.13.2"
  }
 },
 "nbformat": 4,
 "nbformat_minor": 5
}
