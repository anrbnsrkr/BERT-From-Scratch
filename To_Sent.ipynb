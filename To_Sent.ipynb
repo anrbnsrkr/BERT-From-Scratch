{
 "cells": [
  {
   "cell_type": "code",
   "execution_count": 1,
   "id": "911224b8",
   "metadata": {},
   "outputs": [],
   "source": [
    "import spacy\n",
    "from spacy.lang.en import English\n",
    "import datasets\n",
    "import os\n",
    "import pandas\n",
    "import numpy\n",
    "import tqdm\n",
    "import torch\n",
    "import pickle"
   ]
  },
  {
   "cell_type": "code",
   "execution_count": 2,
   "id": "20c32d7d-d4a4-445a-b480-31510af6f0b7",
   "metadata": {},
   "outputs": [
    {
     "data": {
      "text/plain": [
       "True"
      ]
     },
     "execution_count": 2,
     "metadata": {},
     "output_type": "execute_result"
    }
   ],
   "source": [
    "spacy.require_gpu()"
   ]
  },
  {
   "cell_type": "code",
   "execution_count": 3,
   "id": "5b2abd86",
   "metadata": {},
   "outputs": [
    {
     "name": "stdout",
     "output_type": "stream",
     "text": [
      "1000000\n",
      "1000000000\n"
     ]
    }
   ],
   "source": [
    "model = English()\n",
    "model.add_pipe('sentencizer')\n",
    "print(model.max_length)\n",
    "model.max_length = model.max_length * 1000\n",
    "print(model.max_length)"
   ]
  },
  {
   "cell_type": "code",
   "execution_count": 4,
   "id": "f5e83b06",
   "metadata": {},
   "outputs": [],
   "source": [
    "text_corpa = datasets.load_from_disk('cleaned_text')"
   ]
  },
  {
   "cell_type": "code",
   "execution_count": 5,
   "id": "a85bfae4-587c-4144-b46c-30782ecd9ee8",
   "metadata": {},
   "outputs": [],
   "source": [
    "batch_size = 16\n",
    "rang = list(range(batch_size, text_corpa.num_rows, batch_size))\n",
    "if(text_corpa.num_rows != rang[-1]):\n",
    "    rang.append(text_corpa.num_rows)"
   ]
  },
  {
   "cell_type": "code",
   "execution_count": 6,
   "id": "7a4b0716-59ae-4817-96b6-8af828b0213a",
   "metadata": {
    "scrolled": true
   },
   "outputs": [
    {
     "name": "stderr",
     "output_type": "stream",
     "text": [
      "100%|██████████| 1117/1117 [12:52:16<00:00, 41.48s/it]       \n"
     ]
    }
   ],
   "source": [
    "sentence_corpa = []\n",
    "i = 0\n",
    "for j in tqdm.tqdm(rang):\n",
    "    text = text_corpa[i: j]['cleaned_text']\n",
    "    i = j\n",
    "    with torch.no_grad():\n",
    "        docs = model.pipe(text,batch_size = batch_size)\n",
    "        [sentence_corpa.append(lis) for lis in [[str(sent) for sent in doc.sents] for doc in list(docs)]]\n",
    "        del docs\n",
    "        torch.cuda.empty_cache()"
   ]
  },
  {
   "cell_type": "code",
   "execution_count": 7,
   "id": "d6a72946-9f36-40ee-b3cd-dd99ada00eea",
   "metadata": {},
   "outputs": [
    {
     "data": {
      "text/plain": [
       "17868"
      ]
     },
     "execution_count": 7,
     "metadata": {},
     "output_type": "execute_result"
    }
   ],
   "source": [
    "len(sentence_corpa)"
   ]
  },
  {
   "cell_type": "code",
   "execution_count": 8,
   "id": "34219bdc-52d7-459f-8a0c-4cc27f726d65",
   "metadata": {},
   "outputs": [],
   "source": [
    "with open(\"sentence_corpa.pkl\", \"wb\") as f:\n",
    "    pickle.dump(sentence_corpa, f)"
   ]
  }
 ],
 "metadata": {
  "kernelspec": {
   "display_name": "NLP",
   "language": "python",
   "name": "nlp"
  },
  "language_info": {
   "codemirror_mode": {
    "name": "ipython",
    "version": 3
   },
   "file_extension": ".py",
   "mimetype": "text/x-python",
   "name": "python",
   "nbconvert_exporter": "python",
   "pygments_lexer": "ipython3",
   "version": "3.13.2"
  }
 },
 "nbformat": 4,
 "nbformat_minor": 5
}
