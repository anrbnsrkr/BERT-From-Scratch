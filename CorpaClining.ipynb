{
 "cells": [
  {
   "cell_type": "code",
   "execution_count": 1,
   "id": "75a133ef",
   "metadata": {},
   "outputs": [],
   "source": [
    "import datasets\n",
    "import os"
   ]
  },
  {
   "cell_type": "code",
   "execution_count": 2,
   "id": "ea3e0ef5",
   "metadata": {},
   "outputs": [],
   "source": [
    "data = datasets.load_dataset(\"jiajinda/bookcorpusopen\")"
   ]
  },
  {
   "cell_type": "code",
   "execution_count": 3,
   "id": "726655d8-5c2e-4097-8329-0c9d2edeb031",
   "metadata": {},
   "outputs": [
    {
     "data": {
      "text/plain": [
       "DatasetDict({\n",
       "    train: Dataset({\n",
       "        features: ['title', 'text'],\n",
       "        num_rows: 17868\n",
       "    })\n",
       "})"
      ]
     },
     "execution_count": 3,
     "metadata": {},
     "output_type": "execute_result"
    }
   ],
   "source": [
    "data"
   ]
  },
  {
   "cell_type": "code",
   "execution_count": 4,
   "id": "4977e022",
   "metadata": {},
   "outputs": [],
   "source": [
    "data = data['train']"
   ]
  },
  {
   "cell_type": "code",
   "execution_count": 5,
   "id": "bbdd0cc5-73d2-4723-a587-29b2ad518c60",
   "metadata": {},
   "outputs": [],
   "source": [
    "lis = [int(i * data.num_rows / 10) for i in range(1, 10)]"
   ]
  },
  {
   "cell_type": "code",
   "execution_count": 6,
   "id": "bef2f0f1-7afd-4ac9-a4b9-e79eb81e2fd8",
   "metadata": {},
   "outputs": [],
   "source": [
    "lis.append(data.num_rows)"
   ]
  },
  {
   "cell_type": "code",
   "execution_count": 7,
   "id": "4fc1a0a2-2ef0-462d-b72b-0fa06572c9f1",
   "metadata": {},
   "outputs": [
    {
     "data": {
      "text/plain": [
       "[1786, 3573, 5360, 7147, 8934, 10720, 12507, 14294, 16081, 17868]"
      ]
     },
     "execution_count": 7,
     "metadata": {},
     "output_type": "execute_result"
    }
   ],
   "source": [
    "lis"
   ]
  },
  {
   "cell_type": "code",
   "execution_count": 8,
   "id": "43c16012",
   "metadata": {},
   "outputs": [],
   "source": [
    "def corpa_cleaning(data):\n",
    "    START_LEN = 50\n",
    "    MIN_LEN = 10\n",
    "    def logic(p):\n",
    "        nonlocal keep\n",
    "        if keep:\n",
    "            return len(data) > MIN_LEN\n",
    "        elif len(p.strip()) >= START_LEN:\n",
    "            keep = True\n",
    "            return True\n",
    "        return False\n",
    "    new_Corpa = []\n",
    "    for text in data['text']:\n",
    "        keep = False\n",
    "        para = text.split(\"\\n\\n\")\n",
    "        cleaned_para = [p.strip() for p in para if logic(p)]\n",
    "        if cleaned_para:\n",
    "            res = \" \".join(cleaned_para)\n",
    "            res = res.replace('\\n',' ')\n",
    "            new_Corpa.append(res)\n",
    "        else:\n",
    "            new_Corpa.append(\"\")\n",
    "    return {\"cleaned_text\": new_Corpa}"
   ]
  },
  {
   "cell_type": "code",
   "execution_count": 9,
   "id": "8dfae441",
   "metadata": {},
   "outputs": [
    {
     "data": {
      "application/vnd.jupyter.widget-view+json": {
       "model_id": "4b3c97ca2be94f86a35cca02797cf07c",
       "version_major": 2,
       "version_minor": 0
      },
      "text/plain": [
       "Map (num_proc=24):   0%|          | 0/17868 [00:00<?, ? examples/s]"
      ]
     },
     "metadata": {},
     "output_type": "display_data"
    }
   ],
   "source": [
    "new_data = data.map(corpa_cleaning, remove_columns=['text'], num_proc=os.cpu_count(),load_from_cache_file=False, batched=True)"
   ]
  },
  {
   "cell_type": "code",
   "execution_count": 10,
   "id": "455843b4",
   "metadata": {
    "scrolled": true
   },
   "outputs": [],
   "source": [
    "# val1 = 0\n",
    "# for i, val2 in enumerate(lis):\n",
    "#     selectedData = data.select(range(val1,val2))\n",
    "#     new_data = selectedData.map(corpa_cleaning, remove_columns=['text'], num_proc=os.cpu_count(),load_from_cache_file=False, batched=True)\n",
    "#     print(i)\n",
    "#     new_data.save_to_disk(f\"cleaned_text{i}\")\n",
    "#     val1 = val2"
   ]
  },
  {
   "cell_type": "code",
   "execution_count": 11,
   "id": "087e2c4f",
   "metadata": {},
   "outputs": [
    {
     "data": {
      "application/vnd.jupyter.widget-view+json": {
       "model_id": "ced81e1cdfcc42d0ac1c71e449087c77",
       "version_major": 2,
       "version_minor": 0
      },
      "text/plain": [
       "Saving the dataset (0/1 shards):   0%|          | 0/17868 [00:00<?, ? examples/s]"
      ]
     },
     "metadata": {},
     "output_type": "display_data"
    }
   ],
   "source": [
    "new_data.save_to_disk(f\"cleaned_text\")"
   ]
  },
  {
   "cell_type": "code",
   "execution_count": 12,
   "id": "e4ac0112-6d58-4d44-b2d4-34557f26a6c8",
   "metadata": {},
   "outputs": [],
   "source": [
    "x = datasets.load_from_disk(\"cleaned_text\")"
   ]
  },
  {
   "cell_type": "code",
   "execution_count": 13,
   "id": "792f5187",
   "metadata": {},
   "outputs": [
    {
     "data": {
      "text/plain": [
       "Dataset({\n",
       "    features: ['title', 'cleaned_text'],\n",
       "    num_rows: 17868\n",
       "})"
      ]
     },
     "execution_count": 13,
     "metadata": {},
     "output_type": "execute_result"
    }
   ],
   "source": [
    "x"
   ]
  },
  {
   "cell_type": "code",
   "execution_count": 14,
   "id": "d123781c-e169-45fa-b604-59566b8e8832",
   "metadata": {},
   "outputs": [
    {
     "data": {
      "text/plain": [
       "\"License Notes: This ebook is licensed for your personal enjoyment only. This ebook may not be re-sold or given away to other people. If you would like to share this ebook with another person, please purchase an additional copy for each person you share it with. If you're reading this book and did not purchase it, or it was not purchased for your use only, then you should return to Smashwords.com and purchase your own copy. Thank you for respecting the hard work of this author.\""
      ]
     },
     "execution_count": 14,
     "metadata": {},
     "output_type": "execute_result"
    }
   ],
   "source": [
    "x[3]['cleaned_text']"
   ]
  },
  {
   "cell_type": "code",
   "execution_count": 15,
   "id": "8a2703a2-39d7-4ed1-911c-28ed83d97f71",
   "metadata": {},
   "outputs": [
    {
     "name": "stdout",
     "output_type": "stream",
     "text": [
      "This ebook is licensed for your personal enjoyment only. This ebook may not be re-sold or given away to other people. If you would like to share this book with another person, please purchase an additional copy for each person you share it with. If you're reading this book and did not purchase it, or it was not purchased for your use only, then you should return to Smashwords.com and purchase your own copy. Thank you for respecting the hard work of this author.\n"
     ]
    }
   ],
   "source": [
    "print(new_data[1][\"cleaned_text\"])"
   ]
  },
  {
   "cell_type": "code",
   "execution_count": null,
   "id": "b563a9e8-1a3f-4599-bbdc-f6f71d6c88ae",
   "metadata": {},
   "outputs": [],
   "source": []
  }
 ],
 "metadata": {
  "kernelspec": {
   "display_name": "NLP",
   "language": "python",
   "name": "nlp"
  },
  "language_info": {
   "codemirror_mode": {
    "name": "ipython",
    "version": 3
   },
   "file_extension": ".py",
   "mimetype": "text/x-python",
   "name": "python",
   "nbconvert_exporter": "python",
   "pygments_lexer": "ipython3",
   "version": "3.13.2"
  }
 },
 "nbformat": 4,
 "nbformat_minor": 5
}
